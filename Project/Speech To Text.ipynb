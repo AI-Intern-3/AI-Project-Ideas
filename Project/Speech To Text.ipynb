{
 "cells": [
  {
   "cell_type": "code",
   "execution_count": 5,
   "id": "acc04441-253d-4296-80d0-1a3aa6a4b34b",
   "metadata": {},
   "outputs": [
    {
     "name": "stdout",
     "output_type": "stream",
     "text": [
      "Adjusting for ambient noise, please wait...\n",
      "Listening...\n",
      "You said: kya hai WhatsApp what are you doing how are you where are you\n",
      "Token: kya, POS: PROPN, Lemma: kya\n",
      "Token: hai, POS: PROPN, Lemma: hai\n",
      "Token: WhatsApp, POS: PROPN, Lemma: WhatsApp\n",
      "Token: what, POS: PRON, Lemma: what\n",
      "Token: are, POS: AUX, Lemma: be\n",
      "Token: you, POS: PRON, Lemma: you\n",
      "Token: doing, POS: VERB, Lemma: do\n",
      "Token: how, POS: SCONJ, Lemma: how\n",
      "Token: are, POS: AUX, Lemma: be\n",
      "Token: you, POS: PRON, Lemma: you\n",
      "Token: where, POS: SCONJ, Lemma: where\n",
      "Token: are, POS: AUX, Lemma: be\n",
      "Token: you, POS: PRON, Lemma: you\n"
     ]
    }
   ],
   "source": [
    "import speech_recognition as sr\n",
    "import spacy\n",
    "\n",
    "# Initialize the NLP library\n",
    "nlp = spacy.load('en_core_web_sm')\n",
    "\n",
    "# Initialize the recognizer\n",
    "recognizer = sr.Recognizer()\n",
    "\n",
    "def capture_audio():\n",
    "    with sr.Microphone() as source:\n",
    "        print(\"Adjusting for ambient noise, please wait...\")\n",
    "        recognizer.adjust_for_ambient_noise(source, duration=1)\n",
    "        print(\"Listening...\")\n",
    "        audio = recognizer.listen(source)\n",
    "        return audio\n",
    "\n",
    "def recognize_speech(audio):\n",
    "    try:\n",
    "        text = recognizer.recognize_google(audio)\n",
    "        print(\"You said: \" + text)\n",
    "        return text\n",
    "    except sr.UnknownValueError:\n",
    "        print(\"Sorry, I could not understand the audio.\")\n",
    "        return None\n",
    "    except sr.RequestError as e:\n",
    "        print(\"Could not request results from Google Speech Recognition service; {0}\".format(e))\n",
    "        return None\n",
    "\n",
    "def process_text(text):\n",
    "    if text:\n",
    "        doc = nlp(text)\n",
    "        for token in doc:\n",
    "            print(f'Token: {token.text}, POS: {token.pos_}, Lemma: {token.lemma_}')\n",
    "\n",
    "def main():\n",
    "    audio = capture_audio()\n",
    "    text = recognize_speech(audio)\n",
    "    process_text(text)\n",
    "\n",
    "if __name__ == \"__main__\":\n",
    "    main()\n"
   ]
  },
  {
   "cell_type": "code",
   "execution_count": null,
   "id": "86ab909f-9e9a-4bea-88a9-e375c40ed39d",
   "metadata": {},
   "outputs": [],
   "source": []
  },
  {
   "cell_type": "code",
   "execution_count": null,
   "id": "9f586e53-e53b-4ae1-b340-b3f73f998895",
   "metadata": {},
   "outputs": [],
   "source": []
  }
 ],
 "metadata": {
  "kernelspec": {
   "display_name": "Python 3 (ipykernel)",
   "language": "python",
   "name": "python3"
  },
  "language_info": {
   "codemirror_mode": {
    "name": "ipython",
    "version": 3
   },
   "file_extension": ".py",
   "mimetype": "text/x-python",
   "name": "python",
   "nbconvert_exporter": "python",
   "pygments_lexer": "ipython3",
   "version": "3.12.1"
  }
 },
 "nbformat": 4,
 "nbformat_minor": 5
}

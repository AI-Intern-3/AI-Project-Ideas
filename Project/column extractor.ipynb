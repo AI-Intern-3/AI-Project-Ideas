{
 "cells": [
  {
   "cell_type": "code",
   "execution_count": 6,
   "id": "0be5307c-e5bb-4ecc-ae90-efa58f7412d3",
   "metadata": {},
   "outputs": [
    {
     "name": "stdout",
     "output_type": "stream",
     "text": [
      "Email IDs have been successfully written to C:\\Users\\Sparx\\Downloads\\emails.xlsx\n"
     ]
    }
   ],
   "source": [
    "import pandas as pd\n",
    "\n",
    "def read_csv(file_path):\n",
    "    \"\"\"Reads the CSV file from the given path and returns a DataFrame.\"\"\"\n",
    "    try:\n",
    "        df = pd.read_csv(file_path)\n",
    "        return df\n",
    "    except Exception as e:\n",
    "        print(f\"Error reading the CSV file: {e}\")\n",
    "        return None\n",
    "\n",
    "def extract_email_ids(df, email_column='email'):\n",
    "    \"\"\"Extracts the email column from the DataFrame.\"\"\"\n",
    "    if email_column in df.columns:\n",
    "        return df[[email_column]]\n",
    "    else:\n",
    "        print(f\"Column '{email_column}' not found in the DataFrame.\")\n",
    "        return None\n",
    "\n",
    "def write_to_excel(df, output_path):\n",
    "    \"\"\"Writes the DataFrame to an Excel file at the given path.\"\"\"\n",
    "    try:\n",
    "        df.to_excel(output_path, index=False)\n",
    "        print(f\"Email IDs have been successfully written to {output_path}\")\n",
    "    except Exception as e:\n",
    "        print(f\"Error writing to Excel file: {e}\")\n",
    "\n",
    "def main():\n",
    "    # Define file paths\n",
    "    input_file = r\"C:\\Users\\Sparx\\Downloads\\customers-100.csv\"\n",
    "    output_file = r\"C:\\Users\\Sparx\\Downloads\\emails.xlsx\"\n",
    "    \n",
    "    # Step 1: Read the CSV file\n",
    "    df = read_csv(input_file)\n",
    "    if df is None:\n",
    "        return\n",
    "\n",
    "    # Step 2: Extract the email column\n",
    "    email_df = extract_email_ids(df, email_column='Email')\n",
    "    if email_df is None:\n",
    "        return\n",
    "\n",
    "    # Step 3: Write the email IDs to a new Excel file\n",
    "    write_to_excel(email_df, output_file)\n",
    "\n",
    "if __name__ == \"__main__\":\n",
    "    main()\n"
   ]
  },
  {
   "cell_type": "code",
   "execution_count": null,
   "id": "bf9918d6-3298-4637-9aad-f83d4ec5d8d1",
   "metadata": {},
   "outputs": [],
   "source": []
  }
 ],
 "metadata": {
  "kernelspec": {
   "display_name": "Python 3 (ipykernel)",
   "language": "python",
   "name": "python3"
  },
  "language_info": {
   "codemirror_mode": {
    "name": "ipython",
    "version": 3
   },
   "file_extension": ".py",
   "mimetype": "text/x-python",
   "name": "python",
   "nbconvert_exporter": "python",
   "pygments_lexer": "ipython3",
   "version": "3.12.1"
  }
 },
 "nbformat": 4,
 "nbformat_minor": 5
}

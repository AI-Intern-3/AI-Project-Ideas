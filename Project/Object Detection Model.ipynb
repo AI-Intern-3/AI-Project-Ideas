{
 "cells": [
  {
   "cell_type": "code",
   "execution_count": null,
   "id": "7cce82e7-fd33-4034-ae6e-b9e94aa75952",
   "metadata": {},
   "outputs": [],
   "source": [
    "import cv2\n",
    "import numpy as np\n",
    "\n",
    "# Load the pre-trained MobileNet SSD model\n",
    "model_path = r'C:\\Users\\Sparx\\Downloads\\object_detection_COCO-main\\object_detection_COCO-main\\frozen_inference_graph.pb'\n",
    "config_path = r'C:\\Users\\Sparx\\Downloads\\object_detection_COCO-main\\object_detection_COCO-main\\ssd_mobilenet_v3_large_coco_2020_01_14.pbtxt'\n",
    "net = cv2.dnn.readNetFromTensorflow(model_path, config_path)\n",
    "\n",
    "# Initialize the video stream\n",
    "cap = cv2.VideoCapture(0)  # Use 0 for built-in webcam, 1 for external webcam\n",
    "\n",
    "while True:\n",
    "    # Capture frame-by-frame\n",
    "    ret, frame = cap.read()\n",
    "    if not ret:\n",
    "        break\n",
    "    \n",
    "    # Prepare the frame to be fed into the model\n",
    "    blob = cv2.dnn.blobFromImage(frame, size=(300, 300), swapRB=True)\n",
    "    net.setInput(blob)\n",
    "    \n",
    "    # Run the object detection\n",
    "    detections = net.forward()\n",
    "    \n",
    "    # Loop over the detections\n",
    "    for i in range(detections.shape[2]):\n",
    "        confidence = detections[0, 0, i, 2]\n",
    "        if confidence > 0.5:  # Filter out weak detections by confidence\n",
    "            class_id = int(detections[0, 0, i, 1])\n",
    "            \n",
    "            # Draw bounding box for the detected object\n",
    "            box = detections[0, 0, i, 3:7] * np.array([frame.shape[1], frame.shape[0], frame.shape[1], frame.shape[0]])\n",
    "            (startX, startY, endX, endY) = box.astype('int')\n",
    "            \n",
    "            # Draw the bounding box and label on the frame\n",
    "            cv2.rectangle(frame, (startX, startY), (endX, endY), (0, 255, 0), 2)\n",
    "            label = f'Class: {class_id}'\n",
    "            cv2.putText(frame, label, (startX, startY - 10), cv2.FONT_HERSHEY_SIMPLEX, 0.5, (0, 255, 0), 2)\n",
    "    \n",
    "    # Display the resulting frame\n",
    "    cv2.imshow('Object Detection using MobileNet SSD', frame)\n",
    "    \n",
    "    # Break the loop on pressing 'q'\n",
    "    if cv2.waitKey(1) & 0xFF == ord('q'):\n",
    "        break\n",
    "\n",
    "# Release the video capture object and close all windows\n",
    "cap.release()\n",
    "cv2.destroyAllWindows()\n"
   ]
  },
  {
   "cell_type": "code",
   "execution_count": null,
   "id": "0f399c0e-3abc-4013-9015-5a14df06d662",
   "metadata": {},
   "outputs": [],
   "source": []
  }
 ],
 "metadata": {
  "kernelspec": {
   "display_name": "Python 3 (ipykernel)",
   "language": "python",
   "name": "python3"
  },
  "language_info": {
   "codemirror_mode": {
    "name": "ipython",
    "version": 3
   },
   "file_extension": ".py",
   "mimetype": "text/x-python",
   "name": "python",
   "nbconvert_exporter": "python",
   "pygments_lexer": "ipython3",
   "version": "3.12.1"
  }
 },
 "nbformat": 4,
 "nbformat_minor": 5
}

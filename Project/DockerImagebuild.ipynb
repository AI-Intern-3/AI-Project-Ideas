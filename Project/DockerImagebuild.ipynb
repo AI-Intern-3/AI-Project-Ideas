{
 "cells": [
  {
   "cell_type": "code",
   "execution_count": 4,
   "id": "93f37ff5-b0f7-4f90-9654-7d732a4374b4",
   "metadata": {},
   "outputs": [
    {
     "name": "stdout",
     "output_type": "stream",
     "text": [
      "Exception occurred: [WinError 2] The system cannot find the file specified\n",
      "Exception occurred: [WinError 2] The system cannot find the file specified\n"
     ]
    }
   ],
   "source": [
    "import subprocess\n",
    "\n",
    "def build_docker_image(image_name, dockerfile_path, context_path='.'):\n",
    "    \"\"\"Build Docker image from Dockerfile and source.\"\"\"\n",
    "    try:\n",
    "        # Docker build command\n",
    "        cmd = ['docker', 'build', '-t', image_name, '-f', dockerfile_path, context_path]\n",
    "        \n",
    "        # Run the command\n",
    "        process = subprocess.Popen(cmd, stdout=subprocess.PIPE, stderr=subprocess.PIPE)\n",
    "        stdout, stderr = process.communicate()\n",
    "        \n",
    "        # Check for errors\n",
    "        if process.returncode != 0:\n",
    "            print(f\"Error building Docker image: {stderr.decode('utf-8')}\")\n",
    "        else:\n",
    "            print(f\"Docker image '{image_name}' built successfully.\")\n",
    "            print(stdout.decode('utf-8'))\n",
    "    \n",
    "    except Exception as e:\n",
    "        print(f\"Exception occurred: {str(e)}\")\n",
    "\n",
    "if __name__ == '__main__':\n",
    "    # Replace with your Docker image name and paths\n",
    "    image_name = 'mydockerimage:latest'\n",
    "    dockerfile_path = 'import subprocess'\n",
    "\n",
    "def build_docker_image(image_name, dockerfile_path, context_path='.'):\n",
    "    \"\"\"Build Docker image from Dockerfile and source.\"\"\"\n",
    "    try:\n",
    "        # Docker build command\n",
    "        cmd = ['docker', 'build', '-t', image_name, '-f', dockerfile_path, context_path]\n",
    "        \n",
    "        # Run the command\n",
    "        process = subprocess.Popen(cmd, stdout=subprocess.PIPE, stderr=subprocess.PIPE)\n",
    "        stdout, stderr = process.communicate()\n",
    "        \n",
    "        # Check for errors\n",
    "        if process.returncode != 0:\n",
    "            print(f\"Error building Docker image: {stderr.decode('utf-8')}\")\n",
    "        else:\n",
    "            print(f\"Docker image '{image_name}' built successfully.\")\n",
    "            print(stdout.decode('utf-8'))\n",
    "    \n",
    "    except Exception as e:\n",
    "        print(f\"Exception occurred: {str(e)}\")\n",
    "\n",
    "if __name__ == '__main__':\n",
    "    # Replace with your Docker image name and paths\n",
    "    image_name = 'mydockerimage:latest'\n",
    "    dockerfile_path = r\"C:\\Users\\Sparx\\Downloads\\FastAPI-minikube-main\\FastAPI-minikube-main\\hello-fastapi\\Dockerfile\"\n",
    "    context_path = r\"C:\\Users\\Sparx\\Downloads\\FastAPI-minikube-main\\FastAPI-minikube-main\\hello-fastapi\\app\"\n",
    "    \n",
    "    # Build Docker image\n",
    "    build_docker_image(image_name, dockerfile_path, context_path)\n",
    "\n",
    "    context_path = r\"C:\\Users\\Sparx\\Downloads\\FastAPI-minikube-main\\FastAPI-minikube-main\\hello-fastapi\\app\"\n",
    "    # Build Docker image\n",
    "    build_docker_image(image_name, dockerfile_path, context_path)\n"
   ]
  },
  {
   "cell_type": "code",
   "execution_count": null,
   "id": "995ed7f2-6fa2-4a35-bdad-c7101247c497",
   "metadata": {},
   "outputs": [],
   "source": []
  }
 ],
 "metadata": {
  "kernelspec": {
   "display_name": "Python 3 (ipykernel)",
   "language": "python",
   "name": "python3"
  },
  "language_info": {
   "codemirror_mode": {
    "name": "ipython",
    "version": 3
   },
   "file_extension": ".py",
   "mimetype": "text/x-python",
   "name": "python",
   "nbconvert_exporter": "python",
   "pygments_lexer": "ipython3",
   "version": "3.12.1"
  }
 },
 "nbformat": 4,
 "nbformat_minor": 5
}

{
 "cells": [
  {
   "cell_type": "code",
   "execution_count": null,
   "id": "918390c3-eee4-42c2-9972-4d4a66cfe412",
   "metadata": {},
   "outputs": [
    {
     "name": "stdout",
     "output_type": "stream",
     "text": [
      "Listening...\n",
      "You said: yeah tell me\n",
      "Listening...\n",
      "You said: about you\n",
      "Listening...\n",
      "You said: give me answer\n",
      "Listening...\n",
      "You said: how\n",
      "Listening...\n",
      "You said: where\n",
      "Listening...\n",
      "You said: ok exit\n",
      "Listening...\n",
      "Sorry, I could not understand.\n",
      "Listening...\n",
      "Sorry, I could not understand.\n",
      "Listening...\n",
      "Sorry, I could not understand.\n",
      "Listening...\n",
      "Sorry, I could not understand.\n",
      "Listening...\n"
     ]
    }
   ],
   "source": [
    "import speech_recognition as sr\n",
    "import pyttsx3\n",
    "\n",
    "# Initialize recognizer and engine\n",
    "recognizer = sr.Recognizer()\n",
    "engine = pyttsx3.init()\n",
    "\n",
    "def listen():\n",
    "    with sr.Microphone() as source:\n",
    "        print(\"Listening...\")\n",
    "        recognizer.adjust_for_ambient_noise(source, duration=1)\n",
    "        audio = recognizer.listen(source)\n",
    "        \n",
    "    try:\n",
    "        text = recognizer.recognize_google(audio)\n",
    "        print(f\"You said: {text}\")\n",
    "        return text\n",
    "    except sr.UnknownValueError:\n",
    "        print(\"Sorry, I could not understand.\")\n",
    "        return \"\"\n",
    "    except sr.RequestError:\n",
    "        print(\"Speech recognition service is unavailable.\")\n",
    "        return \"\"\n",
    "\n",
    "def speak(text):\n",
    "    engine.say(text)\n",
    "    engine.runAndWait()\n",
    "\n",
    "def main():\n",
    "    speak(\"Hello! How can I help you today?\")\n",
    "    \n",
    "    while True:\n",
    "        user_input = listen()\n",
    "        \n",
    "        if user_input.lower() == 'exit':\n",
    "            speak(\"Goodbye!\")\n",
    "            break\n",
    "        \n",
    "        # Add your logic to respond based on user input\n",
    "        if user_input:\n",
    "            response = f\"You said: {user_input}\"\n",
    "            speak(response)\n",
    "\n",
    "if __name__ == \"__main__\":\n",
    "    main()\n"
   ]
  },
  {
   "cell_type": "code",
   "execution_count": null,
   "id": "b0a82a51-5278-4c59-a185-bf2a48d8726f",
   "metadata": {},
   "outputs": [],
   "source": []
  }
 ],
 "metadata": {
  "kernelspec": {
   "display_name": "Python 3 (ipykernel)",
   "language": "python",
   "name": "python3"
  },
  "language_info": {
   "codemirror_mode": {
    "name": "ipython",
    "version": 3
   },
   "file_extension": ".py",
   "mimetype": "text/x-python",
   "name": "python",
   "nbconvert_exporter": "python",
   "pygments_lexer": "ipython3",
   "version": "3.12.1"
  }
 },
 "nbformat": 4,
 "nbformat_minor": 5
}
